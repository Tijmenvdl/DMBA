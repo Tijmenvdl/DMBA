{
 "cells": [
  {
   "cell_type": "code",
   "execution_count": 22,
   "metadata": {},
   "outputs": [],
   "source": [
    "#Imports\n",
    "import time\n",
    "\n",
    "import numpy as np\n",
    "from scipy.stats import norm\n",
    "import gurobipy as gb\n",
    "\n",
    "#Set seed for reproducibility of instances\n",
    "np.random.seed(25)\n",
    "\n",
    "def instance_generator(n=50000):\n",
    "    '''\n",
    "    Function that generates hard Knapsack problem instances.\n",
    "    Input:\n",
    "        -n: desired size of set of items I, defaulted at 50,000 as we use this number in our study\n",
    "    Returns:\n",
    "        -v: array of values for all i items\n",
    "        -w: array of weights of all i items\n",
    "    \n",
    "    ''' \n",
    "    v = np.round(norm.rvs(100, 10, size=n))\n",
    "    w = np.zeros(n)\n",
    "    for i in range(n):\n",
    "        w[i] = round(norm.rvs(v[i], 5))\n",
    "    return v, w\n",
    "\n",
    "v, w = instance_generator()\n",
    "\n",
    "# Problem size set-up\n",
    "N = [50, 100, 500, 1000, 5000, 10000, 50000]\n",
    "\n",
    "# Capacity constraint function based on the problem size\n",
    "def W(n):\n",
    "    return 0.45*np.sum(w[0:n])"
   ]
  },
  {
   "cell_type": "code",
   "execution_count": 25,
   "metadata": {},
   "outputs": [],
   "source": [
    "# Binary problem\n",
    "def binary_method(n, v=v, w=w):\n",
    "    '''\n",
    "    Function that runs the Gurobi-binary problem.\n",
    "    Input:\n",
    "        -n: Input problem size\n",
    "    Output:\n",
    "        -obj_val: Outcome of the optimizatoin\n",
    "        -running_time: Time to run the algorithm on the problem size\n",
    "    '''\n",
    "    # Selecting relevant i for problem size\n",
    "    W_gb = W(n)\n",
    "\n",
    "    start_time = time.time()\n",
    "\n",
    "    m = gb.Model(\"Binary model\")\n",
    "    x = m.addVars(n, vtype=gb.GRB.BINARY, name=\"x\")\n",
    "\n",
    "    m.setObjective(gb.quicksum(v[i]*x[i] for i in range(n)), gb.GRB.MAXIMIZE)\n",
    "\n",
    "    m.addConstr(gb.quicksum(w[i]*x[i] for i in range(n)) <= W_gb)\n",
    "\n",
    "    m.update()\n",
    "    m.Params.LogToConsole = 0\n",
    "    m.optimize()\n",
    "    \n",
    "    obj_val = m.objVal\n",
    "    running_time = time.time() - start_time\n",
    "    # print(len([i for i in range(n) if x[i].X==1]))\n",
    "    return obj_val, running_time    "
   ]
  },
  {
   "cell_type": "code",
   "execution_count": null,
   "metadata": {},
   "outputs": [],
   "source": []
  },
  {
   "cell_type": "code",
   "execution_count": 27,
   "metadata": {},
   "outputs": [
    {
     "data": {
      "text/plain": [
       "<matplotlib.collections.PathCollection at 0x2a82c78a910>"
      ]
     },
     "execution_count": 27,
     "metadata": {},
     "output_type": "execute_result"
    },
    {
     "data": {
      "image/png": "[encoded data removed]",
      "text/plain": [
       "<Figure size 640x480 with 1 Axes>"
      ]
     },
     "metadata": {},
     "output_type": "display_data"
    }
   ],
   "source": [
    "optimal_solution_binary = [binary_method(n)[0] for n in N]\n",
    "running_time_binary = [binary_method(n)[1] for n in N]"
   ]
  },
  {
   "cell_type": "code",
   "execution_count": 14,
   "metadata": {},
   "outputs": [
    {
     "data": {
      "text/plain": [
       "array([103., 110.,  83., ..., 104., 102., 109.])"
      ]
     },
     "execution_count": 14,
     "metadata": {},
     "output_type": "execute_result"
    }
   ],
   "source": []
  }
 ],
 "metadata": {
  "kernelspec": {
   "display_name": "Python 3",
   "language": "python",
   "name": "python3"
  },
  "language_info": {
   "codemirror_mode": {
    "name": "ipython",
    "version": 3
   },
   "file_extension": ".py",
   "mimetype": "text/x-python",
   "name": "python",
   "nbconvert_exporter": "python",
   "pygments_lexer": "ipython3",
   "version": "3.11.0"
  }
 },
 "nbformat": 4,
 "nbformat_minor": 2
}
